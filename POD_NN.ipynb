{
  "nbformat": 4,
  "nbformat_minor": 0,
  "metadata": {
    "colab": {
      "provenance": [],
      "gpuType": "T4",
      "include_colab_link": true
    },
    "kernelspec": {
      "name": "python3",
      "display_name": "Python 3"
    },
    "language_info": {
      "name": "python"
    },
    "accelerator": "GPU"
  },
  "cells": [
    {
      "cell_type": "markdown",
      "metadata": {
        "id": "view-in-github",
        "colab_type": "text"
      },
      "source": [
        "<a href=\"https://colab.research.google.com/github/LuigiPagani/DL-ROM-for-Navier-Stokes-/blob/main/POD_NN.ipynb\" target=\"_parent\"><img src=\"https://colab.research.google.com/assets/colab-badge.svg\" alt=\"Open In Colab\"/></a>"
      ]
    },
    {
      "cell_type": "code",
      "execution_count": 1,
      "metadata": {
        "id": "IW12vkiSixlX"
      },
      "outputs": [],
      "source": [
        "import numpy as np\n",
        "import matplotlib.pyplot as plt\n",
        "try:\n",
        "     import dlroms.fespaces as fe\n",
        "except:\n",
        "     !pip install git+https://github.com/NicolaRFranco/dlroms.git\n",
        "     import dlroms.fespaces as fe"
      ]
    },
    {
      "cell_type": "markdown",
      "source": [
        "# **Lab 6 - Data-driven ROMs: the POD-NN approach**\n",
        "\n",
        "When the PDE at hand involves nonlinear operators, implementing a POD-Galerkin ROM becomes highly nontrivial. In fact, suitable tricks, such as hyper-reduction, become necessary in order to ensure that the resulting ROM is sufficently fast (both in assembling the reduced system and in solving it). To overcome this difficulty, another approach is to switch from intrusive to nonintrusive methods, ultimately moving from physics-based ROMs towards data-driven ROMs.\n",
        "</br>\n",
        "</br>\n",
        "We mentioned that methods based on POD rely on the following approximation\n",
        "\n",
        "$$\\mathbf{u}_{\\boldsymbol{\\mu}}\\approx \\mathbf{V}\\mathbf{V}^\\top\\mathbf{u}_{\\boldsymbol{\\mu}},$$\n",
        "\n",
        "where $\\mathbf{V}\\in\\mathbb{R}^{N_h\\times n}$ is the POD matrix. In particular, if we denote the POD coefficients by $\\mathbf{c}_{\\boldsymbol{\\mu}}:=\\mathbf{V}^\\top\\mathbf{u}_{\\boldsymbol{\\mu}}$, then the latter can be re-written as\n",
        "\n",
        "$$\\mathbf{u}_{\\boldsymbol{\\mu}}\\approx \\mathbf{V}\\mathbf{c}_{\\boldsymbol{\\mu}}.$$\n",
        "\n",
        "**In classical Reduced Basis methods**, such as POD-Galerkin, given $\\boldsymbol{\\mu}\\in\\mathbb{R}^{p}$, **the vector of POD coefficients is approximated by solving the projected PDE**, yielding $\\tilde{\\mathbf{c}}_{\\boldsymbol{\\mu}}\\approx \\mathbf{c}_{\\boldsymbol{\\mu}}$. For simple second order elliptic PDEs, this approximation is known to be optimal up to a constant (cf. Céa's Lemma).\n",
        "</br>\n",
        "</br>\n",
        "**In contrast**, the idea behind data-driven techniques is to approximate the map\n",
        "$$\\mathbb{R}^{p}\\ni\\boldsymbol{\\mu}\\mapsto \\mathbf{c}_{\\boldsymbol{\\mu}}\\in\\mathbb{R}^{n}$$\n",
        "by fitting a suitable (nonlinear) regression model. To this end, a popular approach is to rely on deep neural networks: the resulting technique is typically referred to as **POD-NN**. The algorithm can be synthesized as follows:\n",
        "\n",
        "- Collect FOM snapshots $\\{\\boldsymbol{\\mu}_i, \\mathbf{u}_{i}\\}_{i=1}^{N}$, where $\\mathbf{u}_i:=\\mathbf{u}_{\\boldsymbol{\\mu}_i}$;\n",
        "\n",
        "- Compute the POD basis $\\mathbf{V}$ via SVD of the snapshots matrix\n",
        "\n",
        "- Construct a new dataset $\\{\\boldsymbol{\\mu}_i, \\mathbf{c}_{i}\\}_{i=1}^{N}$, consisting of parameter instances and POD coefficients, via projection $\\mathbf{c}_{i}:=\\mathbf{V}^\\top\\mathbf{u}_i$;\n",
        "\n",
        "- Fit a neural network $\\phi:\\mathbb{R}^{p}\\to\\mathbb{R}^{n}$ so that $\\phi(\\boldsymbol{\\mu}_i)\\approx\\mathbf{c}_{i}$;\n",
        "\n",
        "- Define the ROM as the map $\\boldsymbol{\\mu}\\mapsto \\mathbf{V}\\phi(\\boldsymbol{\\mu})$."
      ],
      "metadata": {
        "id": "llsANXkdoywy"
      }
    },
    {
      "cell_type": "code",
      "source": [
        "import numpy as np\n",
        "import matplotlib.pyplot as plt\n",
        "\n",
        "\n",
        "from fenics import*\n",
        "import dlroms.fespaces as fe\n",
        "import numpy as np\n",
        "from IPython.display import clear_output as clc\n",
        "\n",
        "mesh = fe.unitsquaremesh(80, 80)\n",
        "Vh = fe.space(mesh, 'CG', 1)\n",
        "xb = fe.coordinates(Vh)\n",
        "clc()\n",
        "\n",
        "def solveStokes(hpipe):\n",
        "    domain = fe.rectangle((0, 0), (1, 1)) - fe.rectangle((0, hpipe), (1-hpipe, 1-hpipe))\n",
        "    mesh = fe.mesh(domain, stepsize = 0.009)\n",
        "\n",
        "    pP1  = FiniteElement(\"CG\", mesh.ufl_cell(), 1)\n",
        "    vP1B = VectorElement(\"CG\",  mesh.ufl_cell(), 2)\n",
        "\n",
        "    pspace, vspace = pP1, vP1B\n",
        "    W = FunctionSpace(mesh, vspace * pspace)\n",
        "    (b, p) = TrialFunctions(W)\n",
        "    (v, q) = TestFunctions(W)\n",
        "\n",
        "    space = fe.space(mesh, \"CG\", 2, scalar = False)\n",
        "\n",
        "    a = 100*inner(grad(b), grad(v))*dx - div(v)*p*dx - q*div(b)*dx\n",
        "    L = inner(Constant((0.0, 0.0)), v)*dx\n",
        "    dbc = DirichletBC(W.sub(0), Constant((0.0, 0.0)), lambda x, on: on and x[0]>1e-12)\n",
        "    dbc_in = DirichletBC(W.sub(0), Expression((\"x[1]*(%.2f-x[1])/pow(%.2f, 3)\" % (hpipe, hpipe), \"0.0\"), degree = 2),\n",
        "                         lambda x, on: on and (x[0]<=1e-12) and (x[1]<0.5))\n",
        "    dbc_out = DirichletBC(W.sub(1), Constant(0.0), lambda x, on: on and (x[0]<1e-12) and (x[1]>0.5))\n",
        "\n",
        "    bp = Function(W)\n",
        "    solve(a == L, bp, [dbc, dbc_out, dbc_in])\n",
        "    clc()\n",
        "    return bp\n",
        "\n",
        "\n",
        "def FOMstep(u0, t, dt, bfield, sigma, hpipe):\n",
        "    u, v  = TrialFunction(Vh), TestFunction(Vh)\n",
        "    u0f = fe.asvector(u0, Vh)\n",
        "    a = dt*(inner(sigma*grad(u), grad(v))*dx + 10*inner(bfield, grad(u))*v*dx) + u*v*dx\n",
        "    f = u0f*v*dx\n",
        "\n",
        "    dbc = DirichletBC(Vh, Constant(1.0-np.exp(-t)), lambda x, on: on and x[0]<=1e-12 and x[1]<=hpipe)\n",
        "\n",
        "    u = Function(Vh)\n",
        "    solve(a == f, u, dbc)\n",
        "    return u.vector()[:]\n",
        "\n",
        "\n",
        "def FOMsolver(hpipe, dpipe, dbulk):\n",
        "    bp = solveStokes(hpipe)\n",
        "    b = []\n",
        "    for x in xb:\n",
        "        try:\n",
        "            b.append(list(bp(*x))[:2])\n",
        "        except:\n",
        "            b.append([0.0, 0.0])\n",
        "    b = np.stack(b).reshape(-1)\n",
        "    Vb = fe.space(Vh.mesh(), 'CG', 1, scalar = False)\n",
        "    bfield = fe.asvector(b, Vb)\n",
        "\n",
        "    x, y = fe.coordinates(Vh).T\n",
        "    ind = (x>(1.0-hpipe)) + (x<=(1.0-hpipe))*(np.abs(y-0.5)>(0.5-hpipe))\n",
        "    sigma = dpipe*ind + (1-ind)*dbulk\n",
        "    sigma = fe.asvector(sigma, Vh)\n",
        "\n",
        "    u = [np.zeros(Vh.dim())]\n",
        "    t = 0.0\n",
        "    dt = 5e-2\n",
        "    for j in range(100):\n",
        "        u.append(FOMstep(u[-1], t, dt, bfield, sigma, hpipe))\n",
        "        t += dt\n",
        "    return 1.0 - np.stack(u)\n",
        "\n",
        "\n",
        "\n"
      ],
      "metadata": {
        "id": "w_iQQJM7M6fP"
      },
      "execution_count": 2,
      "outputs": []
    },
    {
      "cell_type": "code",
      "source": [
        "import numpy as np\n",
        "import matplotlib.pyplot as plt\n",
        "\n",
        "# Set the seed for reproducibility\n",
        "np.random.seed(42)\n",
        "\n",
        "# Define the parameter ranges\n",
        "delta_range = (0.05, 0.1)\n",
        "D_range = (1, 5)\n",
        "d_range = (0.02, 0.08)\n",
        "\n",
        "# Generate an 8x3 array of random parameter values within the specified ranges\n",
        "num_samples = 50\n",
        "params = np.zeros((num_samples, 3))\n",
        "params[:, 0] = np.random.uniform(delta_range[0], delta_range[1], num_samples)  # deltas\n",
        "params[:, 1] = np.random.uniform(D_range[0], D_range[1], num_samples)          # Ds\n",
        "params[:, 2] = np.random.uniform(d_range[0], d_range[1], num_samples)          # ds\n",
        "\n",
        "# Initialize snapshots as None\n",
        "snapshots = None\n",
        "\n",
        "# Iterate over all combinations of parameters in the generated array\n",
        "for p in params:\n",
        "    delta, D, d = p\n",
        "    # Solve the model for the current set of parameters\n",
        "    u = FOMsolver(delta, D, d)\n",
        "\n",
        "    # Assemble the snapshot matrix\n",
        "    if snapshots is None:\n",
        "        snapshots = u  # Initialize with the first result\n",
        "    else:\n",
        "        snapshots = np.vstack((snapshots, u))  # Stack horizontally with the existing snapshots\n",
        "\n"
      ],
      "metadata": {
        "id": "FByQq90SZtv0"
      },
      "execution_count": 3,
      "outputs": []
    },
    {
      "cell_type": "code",
      "source": [
        "snapshots = np.array(snapshots)\n",
        "np.save('snapshots.npy', snapshots)\n",
        "np.save('params.npy', params)"
      ],
      "metadata": {
        "id": "sPfKmNE9sfZ8"
      },
      "execution_count": 4,
      "outputs": []
    },
    {
      "cell_type": "code",
      "source": [
        "#@title Download Snapshots\n",
        "import gdown\n",
        "gdown.download(id = \"1ZuOj-2t9jkP-JCmIskgFO1vjnUJAG0pC\", output = \"snapshots.npy\", quiet=False)\n",
        "gdown.download(id = \"1TS4UTBRS_A3KZf760j92xxJYeDf8nQ43\", output = \"params.npy\", quiet=False)\n"
      ],
      "metadata": {
        "id": "fygHoPUHvtua",
        "outputId": "279c59b8-2412-434f-a5ab-b7fbeb733b2e",
        "colab": {
          "base_uri": "https://localhost:8080/",
          "height": 217
        }
      },
      "execution_count": 9,
      "outputs": [
        {
          "output_type": "stream",
          "name": "stderr",
          "text": [
            "Downloading...\n",
            "From (original): https://drive.google.com/uc?id=1ZuOj-2t9jkP-JCmIskgFO1vjnUJAG0pC\n",
            "From (redirected): https://drive.google.com/uc?id=1ZuOj-2t9jkP-JCmIskgFO1vjnUJAG0pC&confirm=t&uuid=7410dd0c-d5c5-4b11-9313-4869b9a0b443\n",
            "To: /content/snapshots.npy\n",
            "100%|██████████| 265M/265M [00:01<00:00, 185MB/s]\n",
            "Downloading...\n",
            "From: https://drive.google.com/uc?id=1TS4UTBRS_A3KZf760j92xxJYeDf8nQ43\n",
            "To: /content/params.npy\n",
            "100%|██████████| 1.33k/1.33k [00:00<00:00, 4.41MB/s]\n"
          ]
        },
        {
          "output_type": "execute_result",
          "data": {
            "text/plain": [
              "'params.npy'"
            ],
            "application/vnd.google.colaboratory.intrinsic+json": {
              "type": "string"
            }
          },
          "metadata": {},
          "execution_count": 9
        }
      ]
    },
    {
      "cell_type": "code",
      "source": [
        "snapshots = np.load('/content/snapshots.npy')\n",
        "params = np.load('/content/params.npy')\n"
      ],
      "metadata": {
        "id": "hUtC1vILwRBN"
      },
      "execution_count": 11,
      "outputs": []
    },
    {
      "cell_type": "code",
      "source": [
        "u = snapshots\n",
        "ntrain = 250*101"
      ],
      "metadata": {
        "id": "zL_mvUvWQbMB"
      },
      "execution_count": 12,
      "outputs": []
    },
    {
      "cell_type": "code",
      "source": [
        "from scipy.linalg import svd\n",
        "X, s, Yt = svd(u[:ntrain].T, full_matrices = False)\n",
        "plt.plot(s[1:50])\n",
        "plt.show()"
      ],
      "metadata": {
        "colab": {
          "base_uri": "https://localhost:8080/",
          "height": 430
        },
        "id": "E-vR7IcUQKhf",
        "outputId": "f1a17394-8803-4dad-bc01-77e07d12012b"
      },
      "execution_count": 13,
      "outputs": [
        {
          "output_type": "display_data",
          "data": {
            "text/plain": [
              "<Figure size 640x480 with 1 Axes>"
            ],
            "image/png": "[encoded data removed]"
          },
          "metadata": {}
        }
      ]
    },
    {
      "cell_type": "code",
      "source": [
        "n = 5\n",
        "V = X[:, :n]"
      ],
      "metadata": {
        "id": "yKBXGAAOQNQM"
      },
      "execution_count": 14,
      "outputs": []
    },
    {
      "cell_type": "code",
      "source": [
        "X.shape"
      ],
      "metadata": {
        "colab": {
          "base_uri": "https://localhost:8080/"
        },
        "id": "Q__nZ4cHUhb0",
        "outputId": "968d30ef-8ae1-4c05-e902-9934d72b67a0"
      },
      "execution_count": 15,
      "outputs": [
        {
          "output_type": "execute_result",
          "data": {
            "text/plain": [
              "(6561, 5050)"
            ]
          },
          "metadata": {},
          "execution_count": 15
        }
      ]
    },
    {
      "cell_type": "code",
      "source": [
        "snapshots1 = snapshots\n",
        "from dlroms import*\n"
      ],
      "metadata": {
        "id": "QhXFk36-NP7O"
      },
      "execution_count": 16,
      "outputs": []
    },
    {
      "cell_type": "code",
      "source": [
        "mu = dv.tensor(params)\n"
      ],
      "metadata": {
        "id": "Sk4WRrrPM_Bd"
      },
      "execution_count": 17,
      "outputs": []
    },
    {
      "cell_type": "code",
      "source": [
        "ndata, ntimes, nh = 50,101,6561\n",
        "p = 3\n",
        "\n",
        "print(\"Trajectories:\\t%d.\" % ndata)\n",
        "print(\"Timesteps:\\t%d.\" % ntimes)\n",
        "print(\"FOM dimension:\\t%d.\" % nh)\n",
        "print(\"Parameters:\\t%d.\" % p)\n",
        "\n",
        "\n",
        "mut = dv.zeros(ndata, ntimes, p+1)\n",
        "times = dv.tensor(np.linspace(0, 5, ntimes))\n",
        "\n",
        "for i in range(ndata):\n",
        "    mut[i,:,:3] = mu[i]\n",
        "    mut[i,:, 3] = times\n"
      ],
      "metadata": {
        "colab": {
          "base_uri": "https://localhost:8080/"
        },
        "id": "ALuwK7NXJ2mI",
        "outputId": "3f1d970c-307e-4a61-929a-456ce54f1f5f"
      },
      "execution_count": 20,
      "outputs": [
        {
          "output_type": "stream",
          "name": "stdout",
          "text": [
            "Trajectories:\t50.\n",
            "Timesteps:\t101.\n",
            "FOM dimension:\t6561.\n",
            "Parameters:\t3.\n"
          ]
        }
      ]
    },
    {
      "cell_type": "code",
      "source": [
        "mut = mut.reshape(-1, p+1)"
      ],
      "metadata": {
        "id": "4bPNvTgCKrxl"
      },
      "execution_count": 21,
      "outputs": []
    },
    {
      "cell_type": "code",
      "source": [
        "import torch\n",
        "import numpy as np\n",
        "import random\n",
        "import os\n",
        "\n",
        "def set_seed(seed: int = 42):\n",
        "    \"\"\"\n",
        "    Set seed for reproducibility.\n",
        "\n",
        "    Args:\n",
        "        seed (int): Seed to use for random number generators. Default is 42.\n",
        "    \"\"\"\n",
        "    random.seed(seed)\n",
        "    os.environ['PYTHONHASHSEED'] = str(seed)\n",
        "    np.random.seed(seed)\n",
        "    torch.manual_seed(seed)\n",
        "    torch.cuda.manual_seed(seed)\n",
        "    torch.cuda.manual_seed_all(seed)  # if you are using multi-GPU.\n",
        "    torch.backends.cudnn.deterministic = True\n",
        "    torch.backends.cudnn.benchmark = False\n",
        "\n"
      ],
      "metadata": {
        "id": "LLr2SSrV8Fwo"
      },
      "execution_count": 22,
      "outputs": []
    },
    {
      "cell_type": "markdown",
      "source": [
        "The script also gives access to a collection of $N$ FOM simulations, which can be readily downloaded and inspected. The data were sampled by picking random values of $\\boldsymbol{\\mu}$ uniformly in the parameter space $[80, 120]^3\\times [1.5, 5] \\times [-3.5, -1.5].$"
      ],
      "metadata": {
        "id": "W2cVxWYN4fzv"
      }
    },
    {
      "cell_type": "markdown",
      "source": [
        "**Note**\n",
        "\n",
        "NN based ROMs become even more efficient when multiple calls are required (1000 calls are not 1000 times more expensive than a single call)! This is thanks to the elevanted efficiency of matrix-matrix multiplication."
      ],
      "metadata": {
        "id": "l77nochp_gKA"
      }
    },
    {
      "cell_type": "code",
      "source": [
        "u = dv.tensor(u)\n",
        "V = dv.tensor(V)"
      ],
      "metadata": {
        "id": "TIv6DDBkQ8n1"
      },
      "execution_count": 23,
      "outputs": []
    },
    {
      "cell_type": "code",
      "source": [
        "c = u @ V\n",
        "c.shape\n"
      ],
      "metadata": {
        "colab": {
          "base_uri": "https://localhost:8080/"
        },
        "id": "1htV_QaykPGU",
        "outputId": "d82c1a87-8896-4184-fe92-b638e47e1523"
      },
      "execution_count": 26,
      "outputs": [
        {
          "output_type": "execute_result",
          "data": {
            "text/plain": [
              "torch.Size([5050, 5])"
            ]
          },
          "metadata": {},
          "execution_count": 26
        }
      ]
    },
    {
      "cell_type": "code",
      "source": [
        "ntrain = ndata*ntimes//2"
      ],
      "metadata": {
        "id": "0ai-c_VDTcZ7"
      },
      "execution_count": 28,
      "outputs": []
    },
    {
      "cell_type": "code",
      "source": [
        "phi = Dense(mut.shape[1], 100) + Dense(100, 500) + Dense(500, n, activation = None)\n",
        "model = DFNN(phi)\n",
        "model.He()\n",
        "model.moveOn(dv)\n",
        "model.train(mut, c, ntrain = ntrain, epochs = 2000, loss = mse(euclidean))"
      ],
      "metadata": {
        "colab": {
          "base_uri": "https://localhost:8080/"
        },
        "id": "5JQ4F0HHAzPd",
        "outputId": "2059464c-7e9a-491c-e955-6400d19c93b0"
      },
      "execution_count": 29,
      "outputs": [
        {
          "output_type": "stream",
          "name": "stdout",
          "text": [
            "\t\tTrain\t\tTest\n",
            "Epoch 2000:\t2.98e-03\t6.92e-01.\n",
            "\n",
            ">> ETA: 0.27s.\n",
            "\n",
            "Training complete. Elapsed time: 9 minutes 3.22 seconds.\n"
          ]
        }
      ]
    },
    {
      "cell_type": "code",
      "source": [
        "model.freeze()"
      ],
      "metadata": {
        "id": "S1PMRyONVHmo"
      },
      "execution_count": 30,
      "outputs": []
    },
    {
      "cell_type": "code",
      "source": [
        "uROM = model(mut[ntrain:]) @ V.T\n",
        "print(\"Average relative error of POD-NN: %s.\" % num2p(mre(euclidean)(u[ntrain:], uROM)))"
      ],
      "metadata": {
        "colab": {
          "base_uri": "https://localhost:8080/"
        },
        "id": "aclhMdxRVKP1",
        "outputId": "dbcc0d7d-1772-4d75-b7b7-2a43a9d737e2"
      },
      "execution_count": 31,
      "outputs": [
        {
          "output_type": "stream",
          "name": "stdout",
          "text": [
            "Average relative error of POD-NN: 2.87%.\n"
          ]
        }
      ]
    }
  ]
}