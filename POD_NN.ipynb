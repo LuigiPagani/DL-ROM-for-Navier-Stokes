{
  "nbformat": 4,
  "nbformat_minor": 0,
  "metadata": {
    "colab": {
      "provenance": [],
      "include_colab_link": true
    },
    "kernelspec": {
      "name": "python3",
      "display_name": "Python 3"
    },
    "language_info": {
      "name": "python"
    }
  },
  "cells": [
    {
      "cell_type": "markdown",
      "metadata": {
        "id": "view-in-github",
        "colab_type": "text"
      },
      "source": [
        "<a href=\"https://colab.research.google.com/github/LuigiPagani/DL-ROM-for-Navier-Stokes-/blob/main/POD_NN.ipynb\" target=\"_parent\"><img src=\"https://colab.research.google.com/assets/colab-badge.svg\" alt=\"Open In Colab\"/></a>"
      ]
    },
    {
      "cell_type": "code",
      "execution_count": 1,
      "metadata": {
        "id": "IW12vkiSixlX"
      },
      "outputs": [],
      "source": [
        "import numpy as np\n",
        "import matplotlib.pyplot as plt\n",
        "try:\n",
        "     import dlroms.fespaces as fe\n",
        "except:\n",
        "     !pip install git+https://github.com/NicolaRFranco/dlroms.git\n",
        "     import dlroms.fespaces as fe"
      ]
    },
    {
      "cell_type": "markdown",
      "source": [
        "# **Lab 6 - Data-driven ROMs: the POD-NN approach**\n",
        "\n",
        "When the PDE at hand involves nonlinear operators, implementing a POD-Galerkin ROM becomes highly nontrivial. In fact, suitable tricks, such as hyper-reduction, become necessary in order to ensure that the resulting ROM is sufficently fast (both in assembling the reduced system and in solving it). To overcome this difficulty, another approach is to switch from intrusive to nonintrusive methods, ultimately moving from physics-based ROMs towards data-driven ROMs.\n",
        "</br>\n",
        "</br>\n",
        "We mentioned that methods based on POD rely on the following approximation\n",
        "\n",
        "$$\\mathbf{u}_{\\boldsymbol{\\mu}}\\approx \\mathbf{V}\\mathbf{V}^\\top\\mathbf{u}_{\\boldsymbol{\\mu}},$$\n",
        "\n",
        "where $\\mathbf{V}\\in\\mathbb{R}^{N_h\\times n}$ is the POD matrix. In particular, if we denote the POD coefficients by $\\mathbf{c}_{\\boldsymbol{\\mu}}:=\\mathbf{V}^\\top\\mathbf{u}_{\\boldsymbol{\\mu}}$, then the latter can be re-written as\n",
        "\n",
        "$$\\mathbf{u}_{\\boldsymbol{\\mu}}\\approx \\mathbf{V}\\mathbf{c}_{\\boldsymbol{\\mu}}.$$\n",
        "\n",
        "**In classical Reduced Basis methods**, such as POD-Galerkin, given $\\boldsymbol{\\mu}\\in\\mathbb{R}^{p}$, **the vector of POD coefficients is approximated by solving the projected PDE**, yielding $\\tilde{\\mathbf{c}}_{\\boldsymbol{\\mu}}\\approx \\mathbf{c}_{\\boldsymbol{\\mu}}$. For simple second order elliptic PDEs, this approximation is known to be optimal up to a constant (cf. Céa's Lemma).\n",
        "</br>\n",
        "</br>\n",
        "**In contrast**, the idea behind data-driven techniques is to approximate the map\n",
        "$$\\mathbb{R}^{p}\\ni\\boldsymbol{\\mu}\\mapsto \\mathbf{c}_{\\boldsymbol{\\mu}}\\in\\mathbb{R}^{n}$$\n",
        "by fitting a suitable (nonlinear) regression model. To this end, a popular approach is to rely on deep neural networks: the resulting technique is typically referred to as **POD-NN**. The algorithm can be synthesized as follows:\n",
        "\n",
        "- Collect FOM snapshots $\\{\\boldsymbol{\\mu}_i, \\mathbf{u}_{i}\\}_{i=1}^{N}$, where $\\mathbf{u}_i:=\\mathbf{u}_{\\boldsymbol{\\mu}_i}$;\n",
        "\n",
        "- Compute the POD basis $\\mathbf{V}$ via SVD of the snapshots matrix\n",
        "\n",
        "- Construct a new dataset $\\{\\boldsymbol{\\mu}_i, \\mathbf{c}_{i}\\}_{i=1}^{N}$, consisting of parameter instances and POD coefficients, via projection $\\mathbf{c}_{i}:=\\mathbf{V}^\\top\\mathbf{u}_i$;\n",
        "\n",
        "- Fit a neural network $\\phi:\\mathbb{R}^{p}\\to\\mathbb{R}^{n}$ so that $\\phi(\\boldsymbol{\\mu}_i)\\approx\\mathbf{c}_{i}$;\n",
        "\n",
        "- Define the ROM as the map $\\boldsymbol{\\mu}\\mapsto \\mathbf{V}\\phi(\\boldsymbol{\\mu})$."
      ],
      "metadata": {
        "id": "llsANXkdoywy"
      }
    },
    {
      "cell_type": "code",
      "source": [
        "!pip install pyDOE"
      ],
      "metadata": {
        "colab": {
          "base_uri": "https://localhost:8080/"
        },
        "id": "LvKzvxTlM-XF",
        "outputId": "f56981f5-bd31-45f2-8cab-2563bd6ea5a0"
      },
      "execution_count": 2,
      "outputs": [
        {
          "output_type": "stream",
          "name": "stdout",
          "text": [
            "Collecting pyDOE\n",
            "  Downloading pyDOE-0.3.8.zip (22 kB)\n",
            "  Preparing metadata (setup.py) ... \u001b[?25l\u001b[?25hdone\n",
            "Requirement already satisfied: numpy in /usr/local/lib/python3.10/dist-packages (from pyDOE) (1.25.2)\n",
            "Requirement already satisfied: scipy in /usr/local/lib/python3.10/dist-packages (from pyDOE) (1.11.4)\n",
            "Building wheels for collected packages: pyDOE\n",
            "  Building wheel for pyDOE (setup.py) ... \u001b[?25l\u001b[?25hdone\n",
            "  Created wheel for pyDOE: filename=pyDOE-0.3.8-py3-none-any.whl size=18168 sha256=19ffc807b03c999cb20d5f90e22786b86c18e431491a21bbe68f412f368927a5\n",
            "  Stored in directory: /root/.cache/pip/wheels/ce/b6/d7/c6b64746dba6433c593e471e0ac3acf4f36040456d1d160d17\n",
            "Successfully built pyDOE\n",
            "Installing collected packages: pyDOE\n",
            "Successfully installed pyDOE-0.3.8\n"
          ]
        }
      ]
    },
    {
      "cell_type": "code",
      "source": [
        "import numpy as np\n",
        "import matplotlib.pyplot as plt\n",
        "\n",
        "\n",
        "from fenics import*\n",
        "import dlroms.fespaces as fe\n",
        "import numpy as np\n",
        "from IPython.display import clear_output as clc\n",
        "\n",
        "mesh = fe.unitsquaremesh(80, 80)\n",
        "Vh = fe.space(mesh, 'CG', 1)\n",
        "xb = fe.coordinates(Vh)\n",
        "clc()\n",
        "\n",
        "def solveStokes(hpipe):\n",
        "    domain = fe.rectangle((0, 0), (1, 1)) - fe.rectangle((0, hpipe), (1-hpipe, 1-hpipe))\n",
        "    mesh = fe.mesh(domain, stepsize = 0.009)\n",
        "\n",
        "    pP1  = FiniteElement(\"CG\", mesh.ufl_cell(), 1)\n",
        "    vP1B = VectorElement(\"CG\",  mesh.ufl_cell(), 2)\n",
        "\n",
        "    pspace, vspace = pP1, vP1B\n",
        "    W = FunctionSpace(mesh, vspace * pspace)\n",
        "    (b, p) = TrialFunctions(W)\n",
        "    (v, q) = TestFunctions(W)\n",
        "\n",
        "    space = fe.space(mesh, \"CG\", 2, scalar = False)\n",
        "\n",
        "    a = 100*inner(grad(b), grad(v))*dx - div(v)*p*dx - q*div(b)*dx\n",
        "    L = inner(Constant((0.0, 0.0)), v)*dx\n",
        "    dbc = DirichletBC(W.sub(0), Constant((0.0, 0.0)), lambda x, on: on and x[0]>1e-12)\n",
        "    dbc_in = DirichletBC(W.sub(0), Expression((\"x[1]*(%.2f-x[1])/pow(%.2f, 3)\" % (hpipe, hpipe), \"0.0\"), degree = 2),\n",
        "                         lambda x, on: on and (x[0]<=1e-12) and (x[1]<0.5))\n",
        "    dbc_out = DirichletBC(W.sub(1), Constant(0.0), lambda x, on: on and (x[0]<1e-12) and (x[1]>0.5))\n",
        "\n",
        "    bp = Function(W)\n",
        "    solve(a == L, bp, [dbc, dbc_out, dbc_in])\n",
        "    clc()\n",
        "    return bp\n",
        "\n",
        "\n",
        "def FOMstep(u0, t, dt, bfield, sigma, hpipe):\n",
        "    u, v  = TrialFunction(Vh), TestFunction(Vh)\n",
        "    u0f = fe.asvector(u0, Vh)\n",
        "    a = dt*(inner(sigma*grad(u), grad(v))*dx + 10*inner(bfield, grad(u))*v*dx) + u*v*dx\n",
        "    f = u0f*v*dx\n",
        "\n",
        "    dbc = DirichletBC(Vh, Constant(1.0-np.exp(-t)), lambda x, on: on and x[0]<=1e-12 and x[1]<=hpipe)\n",
        "\n",
        "    u = Function(Vh)\n",
        "    solve(a == f, u, dbc)\n",
        "    return u.vector()[:]\n",
        "\n",
        "\n",
        "def FOMsolver(hpipe, dpipe, dbulk):\n",
        "    bp = solveStokes(hpipe)\n",
        "    b = []\n",
        "    for x in xb:\n",
        "        try:\n",
        "            b.append(list(bp(*x))[:2])\n",
        "        except:\n",
        "            b.append([0.0, 0.0])\n",
        "    b = np.stack(b).reshape(-1)\n",
        "    Vb = fe.space(Vh.mesh(), 'CG', 1, scalar = False)\n",
        "    bfield = fe.asvector(b, Vb)\n",
        "\n",
        "    x, y = fe.coordinates(Vh).T\n",
        "    ind = (x>(1.0-hpipe)) + (x<=(1.0-hpipe))*(np.abs(y-0.5)>(0.5-hpipe))\n",
        "    sigma = dpipe*ind + (1-ind)*dbulk\n",
        "    sigma = fe.asvector(sigma, Vh)\n",
        "\n",
        "    u = [np.zeros(Vh.dim())]\n",
        "    t = 0.0\n",
        "    dt = 5e-2\n",
        "    for j in range(100):\n",
        "        u.append(FOMstep(u[-1], t, dt, bfield, sigma, hpipe))\n",
        "        t += dt\n",
        "    return 1.0 - np.stack(u)\n",
        "\n",
        "\n",
        "\n"
      ],
      "metadata": {
        "id": "w_iQQJM7M6fP"
      },
      "execution_count": 1,
      "outputs": []
    },
    {
      "cell_type": "code",
      "source": [
        "import numpy as np\n",
        "import matplotlib.pyplot as plt\n",
        "\n",
        "# Set the seed for reproducibility\n",
        "np.random.seed(42)\n",
        "\n",
        "# Define the parameter ranges\n",
        "delta_range = (0.05, 0.1)\n",
        "D_range = (1, 5)\n",
        "d_range = (0.02, 0.08)\n",
        "\n",
        "# Generate an 8x3 array of random parameter values within the specified ranges\n",
        "num_samples = 5\n",
        "params = np.zeros((num_samples, 3))\n",
        "params[:, 0] = np.random.uniform(delta_range[0], delta_range[1], num_samples)  # deltas\n",
        "params[:, 1] = np.random.uniform(D_range[0], D_range[1], num_samples)          # Ds\n",
        "params[:, 2] = np.random.uniform(d_range[0], d_range[1], num_samples)          # ds\n",
        "\n",
        "# Initialize snapshots as None\n",
        "snapshots = None\n",
        "\n",
        "# Iterate over all combinations of parameters in the generated array\n",
        "for p in params:\n",
        "    delta, D, d = p\n",
        "    # Solve the model for the current set of parameters\n",
        "    u = FOMsolver(delta, D, d)\n",
        "\n",
        "    # Assemble the snapshot matrix\n",
        "    if snapshots is None:\n",
        "        snapshots = u  # Initialize with the first result\n",
        "    else:\n",
        "        snapshots = np.vstack((snapshots, u))  # Stack horizontally with the existing snapshots\n",
        "\n"
      ],
      "metadata": {
        "id": "FByQq90SZtv0"
      },
      "execution_count": 2,
      "outputs": []
    },
    {
      "cell_type": "code",
      "source": [
        "u = snapshots\n",
        "ntrain = 250"
      ],
      "metadata": {
        "id": "zL_mvUvWQbMB"
      },
      "execution_count": 3,
      "outputs": []
    },
    {
      "cell_type": "code",
      "source": [
        "# Ex 1.1\n",
        "\n",
        "from scipy.linalg import svd\n",
        "X, s, Yt = svd(u[:ntrain].T, full_matrices = False)\n",
        "plt.plot(s[1:50])\n",
        "plt.show()"
      ],
      "metadata": {
        "colab": {
          "base_uri": "https://localhost:8080/",
          "height": 433
        },
        "id": "E-vR7IcUQKhf",
        "outputId": "8cbf4eac-0626-4819-caca-a3040cf118a1"
      },
      "execution_count": 27,
      "outputs": [
        {
          "output_type": "display_data",
          "data": {
            "text/plain": [
              "<Figure size 640x480 with 1 Axes>"
            ],
            "image/png": "[encoded data removed]"
          },
          "metadata": {}
        }
      ]
    },
    {
      "cell_type": "code",
      "source": [
        "# Ex. 1.2\n",
        "n = 5\n",
        "V = X[:, :n]"
      ],
      "metadata": {
        "id": "yKBXGAAOQNQM"
      },
      "execution_count": 28,
      "outputs": []
    },
    {
      "cell_type": "code",
      "source": [
        "X.shape"
      ],
      "metadata": {
        "colab": {
          "base_uri": "https://localhost:8080/"
        },
        "id": "Q__nZ4cHUhb0",
        "outputId": "7c9cbfc2-fb62-46db-edc4-2444f8afae1f"
      },
      "execution_count": 29,
      "outputs": [
        {
          "output_type": "execute_result",
          "data": {
            "text/plain": [
              "(6561, 250)"
            ]
          },
          "metadata": {},
          "execution_count": 29
        }
      ]
    },
    {
      "cell_type": "code",
      "source": [
        "snapshots1 = snapshots\n",
        "from dlroms import*\n"
      ],
      "metadata": {
        "id": "QhXFk36-NP7O"
      },
      "execution_count": 30,
      "outputs": []
    },
    {
      "cell_type": "code",
      "source": [
        "mu = CPU.tensor(params)\n"
      ],
      "metadata": {
        "id": "Sk4WRrrPM_Bd"
      },
      "execution_count": 31,
      "outputs": []
    },
    {
      "cell_type": "code",
      "source": [
        "params.shape"
      ],
      "metadata": {
        "colab": {
          "base_uri": "https://localhost:8080/"
        },
        "id": "VaNlSkVaLmhu",
        "outputId": "b8d8aef9-a297-465c-f2b9-17c1fb93d807"
      },
      "execution_count": 32,
      "outputs": [
        {
          "output_type": "execute_result",
          "data": {
            "text/plain": [
              "(5, 3)"
            ]
          },
          "metadata": {},
          "execution_count": 32
        }
      ]
    },
    {
      "cell_type": "code",
      "source": [
        "ndata, ntimes, nh = 5,101,6561\n",
        "p = 3\n",
        "\n",
        "print(\"Trajectories:\\t%d.\" % ndata)\n",
        "print(\"Timesteps:\\t%d.\" % ntimes)\n",
        "print(\"FOM dimension:\\t%d.\" % nh)\n",
        "print(\"Parameters:\\t%d.\" % p)\n",
        "\n",
        "\n",
        "mut = CPU.zeros(ndata, ntimes, p+1)\n",
        "times = CPU.tensor(np.linspace(0, 5, ntimes))\n",
        "\n",
        "for i in range(ndata):\n",
        "    mut[i,:,:3] = mu[i]\n",
        "    mut[i,:, 3] = times\n"
      ],
      "metadata": {
        "colab": {
          "base_uri": "https://localhost:8080/"
        },
        "id": "ALuwK7NXJ2mI",
        "outputId": "93b7e77d-f0c5-41c8-e99e-ba50192efd19"
      },
      "execution_count": 33,
      "outputs": [
        {
          "output_type": "stream",
          "name": "stdout",
          "text": [
            "Trajectories:\t5.\n",
            "Timesteps:\t101.\n",
            "FOM dimension:\t6561.\n",
            "Parameters:\t3.\n"
          ]
        }
      ]
    },
    {
      "cell_type": "code",
      "source": [
        "u.shape"
      ],
      "metadata": {
        "colab": {
          "base_uri": "https://localhost:8080/"
        },
        "id": "cKqbUY9xLV5-",
        "outputId": "95457466-3273-4faf-83d7-1d31b4c7b59f"
      },
      "execution_count": 34,
      "outputs": [
        {
          "output_type": "execute_result",
          "data": {
            "text/plain": [
              "torch.Size([505, 6561])"
            ]
          },
          "metadata": {},
          "execution_count": 34
        }
      ]
    },
    {
      "cell_type": "code",
      "source": [
        "mut = mut.reshape(-1, p+1)"
      ],
      "metadata": {
        "id": "4bPNvTgCKrxl"
      },
      "execution_count": 35,
      "outputs": []
    },
    {
      "cell_type": "code",
      "source": [
        "import torch\n",
        "import numpy as np\n",
        "import random\n",
        "import os\n",
        "\n",
        "def set_seed(seed: int = 42):\n",
        "    \"\"\"\n",
        "    Set seed for reproducibility.\n",
        "\n",
        "    Args:\n",
        "        seed (int): Seed to use for random number generators. Default is 42.\n",
        "    \"\"\"\n",
        "    random.seed(seed)\n",
        "    os.environ['PYTHONHASHSEED'] = str(seed)\n",
        "    np.random.seed(seed)\n",
        "    torch.manual_seed(seed)\n",
        "    torch.cuda.manual_seed(seed)\n",
        "    torch.cuda.manual_seed_all(seed)  # if you are using multi-GPU.\n",
        "    torch.backends.cudnn.deterministic = True\n",
        "    torch.backends.cudnn.benchmark = False\n",
        "\n"
      ],
      "metadata": {
        "id": "LLr2SSrV8Fwo"
      },
      "execution_count": 36,
      "outputs": []
    },
    {
      "cell_type": "markdown",
      "source": [
        "The script also gives access to a collection of $N$ FOM simulations, which can be readily downloaded and inspected. The data were sampled by picking random values of $\\boldsymbol{\\mu}$ uniformly in the parameter space $[80, 120]^3\\times [1.5, 5] \\times [-3.5, -1.5].$"
      ],
      "metadata": {
        "id": "W2cVxWYN4fzv"
      }
    },
    {
      "cell_type": "markdown",
      "source": [
        "**Note**\n",
        "\n",
        "NN based ROMs become even more efficient when multiple calls are required (1000 calls are not 1000 times more expensive than a single call)! This is thanks to the elevanted efficiency of matrix-matrix multiplication."
      ],
      "metadata": {
        "id": "l77nochp_gKA"
      }
    },
    {
      "cell_type": "code",
      "source": [
        "u = CPU.tensor(u)\n",
        "V = CPU.tensor(V)"
      ],
      "metadata": {
        "colab": {
          "base_uri": "https://localhost:8080/"
        },
        "id": "TIv6DDBkQ8n1",
        "outputId": "41b63a41-5ae3-4822-b740-243dfef03e9a"
      },
      "execution_count": 37,
      "outputs": [
        {
          "output_type": "stream",
          "name": "stderr",
          "text": [
            "/usr/local/lib/python3.10/dist-packages/dlroms/cores.py:56: UserWarning: To copy construct from a tensor, it is recommended to use sourceTensor.clone().detach() or sourceTensor.clone().detach().requires_grad_(True), rather than torch.tensor(sourceTensor).\n",
            "  return ttensor(arrays[0], dtype = self.dtype, device = self.device)\n"
          ]
        }
      ]
    },
    {
      "cell_type": "code",
      "source": [
        "V.shape"
      ],
      "metadata": {
        "colab": {
          "base_uri": "https://localhost:8080/"
        },
        "id": "8YTIe-jPUdq1",
        "outputId": "907ea29b-699b-4294-ea1a-e95cc9fc3cd0"
      },
      "execution_count": 38,
      "outputs": [
        {
          "output_type": "execute_result",
          "data": {
            "text/plain": [
              "torch.Size([6561, 5])"
            ]
          },
          "metadata": {},
          "execution_count": 38
        }
      ]
    },
    {
      "cell_type": "code",
      "source": [
        "u.shape,mut.shape"
      ],
      "metadata": {
        "colab": {
          "base_uri": "https://localhost:8080/"
        },
        "id": "UDW3fpl6Q9xj",
        "outputId": "7e82905c-0e04-49ae-bbec-8635b4679083"
      },
      "execution_count": 39,
      "outputs": [
        {
          "output_type": "execute_result",
          "data": {
            "text/plain": [
              "(torch.Size([505, 6561]), torch.Size([505, 4]))"
            ]
          },
          "metadata": {},
          "execution_count": 39
        }
      ]
    },
    {
      "cell_type": "code",
      "source": [
        "uproj = u @ V @ V.T\n",
        "avg_proj_error = mre(euclidean)(u[ntrain:], uproj[ntrain:])\n",
        "print(\"Average projection error: %s.\" % num2p(avg_proj_error))"
      ],
      "metadata": {
        "colab": {
          "base_uri": "https://localhost:8080/"
        },
        "id": "Zz9U-a_hRE4K",
        "outputId": "18cd0150-6b2b-41dd-95bf-6ed493411fdf"
      },
      "execution_count": 40,
      "outputs": [
        {
          "output_type": "stream",
          "name": "stdout",
          "text": [
            "Average projection error: 1.37%.\n"
          ]
        }
      ]
    },
    {
      "cell_type": "code",
      "source": [
        "c = u @ V\n",
        "\n",
        "c.shape"
      ],
      "metadata": {
        "colab": {
          "base_uri": "https://localhost:8080/"
        },
        "id": "1htV_QaykPGU",
        "outputId": "b7501c68-1289-4954-b015-e0e48c0a75c7"
      },
      "execution_count": 41,
      "outputs": [
        {
          "output_type": "execute_result",
          "data": {
            "text/plain": [
              "torch.Size([505, 5])"
            ]
          },
          "metadata": {},
          "execution_count": 41
        }
      ]
    },
    {
      "cell_type": "code",
      "source": [
        "ntrain = 250"
      ],
      "metadata": {
        "id": "0ai-c_VDTcZ7"
      },
      "execution_count": 42,
      "outputs": []
    },
    {
      "cell_type": "code",
      "source": [
        "mut.shape,c.shape"
      ],
      "metadata": {
        "colab": {
          "base_uri": "https://localhost:8080/"
        },
        "id": "bzXOK51hRaGD",
        "outputId": "57fb4ee1-6791-4bec-ed05-d85423375ff6"
      },
      "execution_count": 43,
      "outputs": [
        {
          "output_type": "execute_result",
          "data": {
            "text/plain": [
              "(torch.Size([505, 4]), torch.Size([505, 5]))"
            ]
          },
          "metadata": {},
          "execution_count": 43
        }
      ]
    },
    {
      "cell_type": "code",
      "source": [
        "phi = Dense(mut.shape[1], 10) + Dense(10, 10) + Dense(10, n, activation = None)\n",
        "model = DFNN(phi)\n",
        "model.He()\n",
        "model.train(mut, c, ntrain = 250, epochs = 100, loss = mse(euclidean))"
      ],
      "metadata": {
        "colab": {
          "base_uri": "https://localhost:8080/"
        },
        "id": "5JQ4F0HHAzPd",
        "outputId": "28e4fcd3-332f-428f-de18-70f9852a3c2f"
      },
      "execution_count": 62,
      "outputs": [
        {
          "output_type": "stream",
          "name": "stdout",
          "text": [
            "\t\tTrain\t\tTest\n",
            "Epoch 100:\t2.20e+03\t1.71e+03.\n",
            "\n",
            ">> ETA: 0.02s.\n",
            "\n",
            "Training complete. Elapsed time: 1.94 seconds.\n"
          ]
        }
      ]
    },
    {
      "cell_type": "code",
      "source": [
        "model.freeze()"
      ],
      "metadata": {
        "id": "S1PMRyONVHmo"
      },
      "execution_count": 63,
      "outputs": []
    },
    {
      "cell_type": "code",
      "source": [
        "# Ex. 1.5.\n",
        "uROM = model(mut[ntrain:]) @ V.T\n",
        "print(\"Average relative error of POD-NN: %s.\" % num2p(mre(euclidean)(u[ntrain:], uROM)))"
      ],
      "metadata": {
        "colab": {
          "base_uri": "https://localhost:8080/"
        },
        "id": "aclhMdxRVKP1",
        "outputId": "d5aacc48-fd98-4bca-e9f4-1378b4929dba"
      },
      "execution_count": 64,
      "outputs": [
        {
          "output_type": "stream",
          "name": "stdout",
          "text": [
            "Average relative error of POD-NN: 81.94%.\n"
          ]
        }
      ]
    }
  ]
}